{
 "cells": [
  {
   "cell_type": "code",
   "execution_count": 3,
   "metadata": {},
   "outputs": [],
   "source": [
    "from PIL import Image, ImageChops \n",
    "\n",
    "Image.MAX_IMAGE_PIXELS = None\n",
    "\n",
    "# assign images \n",
    "img1 = Image.open(r\"C:\\Users\\User\\Documents\\Directory\\IMG_SPOT6_PMS_202301070722135_ORT_AKWOI-00082571_R1C1.TIF\") \n",
    "img2 = Image.open(r\"C:\\Users\\User\\Documents\\Directory\\IMG_SPOT7_PMS_202301010714574_ORT_AKWOI-00082570_R1C1.TIF\")\n",
    "  \n",
    "# finding difference \n",
    "diff = ImageChops.difference(img1, img2) \n",
    "  \n",
    "# showing the difference \n",
    "diff.show() "
   ]
  }
 ],
 "metadata": {
  "kernelspec": {
   "display_name": "Python 3",
   "language": "python",
   "name": "python3"
  },
  "language_info": {
   "codemirror_mode": {
    "name": "ipython",
    "version": 3
   },
   "file_extension": ".py",
   "mimetype": "text/x-python",
   "name": "python",
   "nbconvert_exporter": "python",
   "pygments_lexer": "ipython3",
   "version": "3.11.4"
  }
 },
 "nbformat": 4,
 "nbformat_minor": 2
}
